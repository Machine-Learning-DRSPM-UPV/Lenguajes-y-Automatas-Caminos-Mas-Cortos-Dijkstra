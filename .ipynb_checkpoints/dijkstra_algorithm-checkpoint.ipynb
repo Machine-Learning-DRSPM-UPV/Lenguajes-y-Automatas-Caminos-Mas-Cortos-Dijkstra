{
 "cells": [
  {
   "cell_type": "markdown",
   "id": "501f43eb-eb91-4931-9122-47e2a7b78088",
   "metadata": {},
   "source": [
    "# Implementación del algoritmo Dijkstra (20 pnts)\n",
    "\n",
    "Desarrolle la clase Dijkstra que implemente el algoritmo Dijkstra para encontrar el camino más corto en un grafo dado. La clase deberá recibir como entrada la matriz de adyacencia de un grafo y como salida, deberá mostrar el camino más corto en dos formatos: en modo lista y en modo gráfico."
   ]
  },
  {
   "cell_type": "code",
   "execution_count": 1,
   "id": "ac970367-7e14-4592-bb66-228c755f07ed",
   "metadata": {},
   "outputs": [],
   "source": [
    "class Dijkstra:\n",
    "    \n",
    "    def __init__(self, ady_mat=None):\n",
    "        \"\"\"\n",
    "        Método constructor de la clase.\n",
    "        :param numpy matrix: Matriz de adyaciencia del grafo a analizar. Se deberá utilizar un numpy.matrix\n",
    "        \"\"\"\n",
    "        pass\n",
    "    \n",
    "    def get_graph(self, ady_mat):\n",
    "        \"\"\"\n",
    "        Método que asigna un nuevo grafo.\n",
    "        \n",
    "        :param numpy matrix:  Matriz de adyaciencia del grafo a analizar. Se deberá utilizar un numpy.matrix\n",
    "        \"\"\"\n",
    "        pass\n",
    "    \n",
    "    def show_graph(self):\n",
    "        \"\"\"\n",
    "        Método que muestra la matriz de adyacencia del grafo.\n",
    "        \"\"\"\n",
    "        pass\n",
    "    def plot_graph(self):\n",
    "        \"\"\"\n",
    "        Método que grafíca el grafo mediante igraph o networkx\n",
    "        \"\"\"\n",
    "        pass\n",
    "    def get_short_path(self, ini_vertex, final_vertex):\n",
    "        \"\"\"\n",
    "        Método que implementa el algoritmo Dijkstra para encontrar el camino mas corto entre dos vértices.\n",
    "        :param ini_vertex: Vertice de donde se parte la búsqueda\n",
    "        :param final_vertex: Vertice final u objetivo\n",
    "        :return list: una lista con el recorrido (camino) a realizar\n",
    "        \"\"\"\n",
    "        pass\n",
    "    def plot_short_path(self):\n",
    "        \"\"\"\n",
    "        Método que grafíca el grafo y muestra explicitamente el camino a seguir. El grafo deberá mostrar las etiquetas de \"peso acumulado\" y \"vertice antecesor\"\n",
    "        por cada vértice.\n",
    "        \"\"\"\n",
    "        pass\n",
    "    "
   ]
  },
  {
   "cell_type": "markdown",
   "id": "5cdaae7e-9a34-49d6-8a4e-212c829dafc8",
   "metadata": {},
   "source": [
    "## Una vez implementada la clase Dijkstra utilice el siguiente grafo para encontrar los siguientes caminos:\n",
    "  1. San Francisco - Miami\n",
    "  2. New York Chicago\n",
    "  \n",
    "  \n",
    "![](Grafo_1_x_kilometros.png)"
   ]
  },
  {
   "cell_type": "code",
   "execution_count": null,
   "id": "e1b39619-2178-4941-9d8b-55c8e350b927",
   "metadata": {},
   "outputs": [],
   "source": []
  },
  {
   "cell_type": "markdown",
   "id": "6358be77-fa33-41fa-88f9-a56b2f6a173b",
   "metadata": {},
   "source": [
    "## Utilice el siguiente grafo y realice la búsqueda de los caminos:\n",
    "\n",
    "  1. San Francisco - Miami\n",
    "  2. New York Chicago\n",
    "  \n",
    "![](Grafo_1_x_costo.png)"
   ]
  },
  {
   "cell_type": "code",
   "execution_count": null,
   "id": "848c1f19-94b2-4b88-9572-d92d84e22211",
   "metadata": {},
   "outputs": [],
   "source": []
  },
  {
   "cell_type": "markdown",
   "id": "8b6a25df-7d10-4195-a469-04534afa5eeb",
   "metadata": {},
   "source": [
    "## Utilice el siguiente grafo y realice la búsqueda de los caminos:\n",
    "\n",
    "  1. San Francisco - Miami\n",
    "  2. New York Chicago\n",
    "  \n",
    "![](Grafo_1_x_tiempo.png)"
   ]
  },
  {
   "cell_type": "code",
   "execution_count": null,
   "id": "17e6ebe6-e726-4054-81b1-da0238752e69",
   "metadata": {},
   "outputs": [],
   "source": []
  }
 ],
 "metadata": {
  "kernelspec": {
   "display_name": "Python 3 (ipykernel)",
   "language": "python",
   "name": "python3"
  },
  "language_info": {
   "codemirror_mode": {
    "name": "ipython",
    "version": 3
   },
   "file_extension": ".py",
   "mimetype": "text/x-python",
   "name": "python",
   "nbconvert_exporter": "python",
   "pygments_lexer": "ipython3",
   "version": "3.8.12"
  }
 },
 "nbformat": 4,
 "nbformat_minor": 5
}
